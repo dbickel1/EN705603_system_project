{
 "cells": [
  {
   "cell_type": "markdown",
   "metadata": {},
   "source": [
    "# Packages"
   ]
  },
  {
   "cell_type": "code",
   "execution_count": 1,
   "metadata": {},
   "outputs": [],
   "source": [
    "import pandas as pd\n",
    "import joblib\n",
    "import numpy as np\n",
    "from copy import deepcopy\n",
    "import matplotlib.pyplot as plt\n",
    "from scipy.stats import beta"
   ]
  },
  {
   "cell_type": "markdown",
   "metadata": {},
   "source": [
    "# Functions"
   ]
  },
  {
   "cell_type": "markdown",
   "metadata": {},
   "source": [
    "## Results analysis functions"
   ]
  },
  {
   "cell_type": "markdown",
   "metadata": {},
   "source": [
    "## over_x\n",
    "*This function returns the company name, ticker, predicted value, and actual value for datapoints predicted to be > x.*"
   ]
  },
  {
   "cell_type": "code",
   "execution_count": 2,
   "metadata": {},
   "outputs": [],
   "source": [
    "def over_x(x, y_pred, y_actl, data, original_idx):\n",
    "    over100_pred = y_pred[y_pred > x]\n",
    "    over100_idx = list(np.where(y_pred>x)[0])\n",
    "    data_idx = []\n",
    "    for j in over100_idx: data_idx.append(original_idx[j])\n",
    "    over100_actl = y_actl[over100_idx]\n",
    "    tickers = data['Ticker'][data_idx].values\n",
    "    companies = data['CompanyName'][data_idx].values\n",
    "    date = data['MarketCapDate'][data_idx].values\n",
    "    return [companies, tickers, date, over100_pred, over100_actl]"
   ]
  },
  {
   "cell_type": "markdown",
   "metadata": {},
   "source": [
    "## Data loading & processing functions"
   ]
  },
  {
   "cell_type": "markdown",
   "metadata": {},
   "source": [
    "## compute_ratio_data\n",
    "*This function computes the financial ratios from the given dataset to be used as the training dataset by the downstream machine learning model.*"
   ]
  },
  {
   "cell_type": "code",
   "execution_count": 3,
   "metadata": {},
   "outputs": [],
   "source": [
    "def compute_ratio_data(data):\n",
    "    ratio_data = pd.DataFrame()\n",
    "    ratio_data['P/E'] = data['MarketCap'] / data['NetIncome']\n",
    "    ratio_data['P/B'] = data['MarketCap'] / data['TotalEquity']\n",
    "    ratio_data['P/S'] = data['MarketCap'] / data['Revenue']\n",
    "    ratio_data['P/OpIn'] = data['MarketCap'] / data['OpIncome']\n",
    "    ratio_data['P/FCF'] = data['MarketCap'] / (data['OpCashFlow'] - data['CapEx'])\n",
    "    ratio_data['FCF/OpCF'] = (data['OpCashFlow'] - data['CapEx']) / data['OpCashFlow']\n",
    "    ratio_data['EV/EBIT'] = data['EV'] / data['EBIT']\n",
    "    ratio_data['CurrentRatio'] = data['TotalCurrentAssets'] / data['TotalCurrentLiabilities']\n",
    "    ratio_data['ROA'] = data['NetIncome'] / data['TotalAssets']\n",
    "    ratio_data['ROCE'] = data['EBIT'] / (data['TotalAssets'] - data['TotalCurrentLiabilities'])\n",
    "    ratio_data['ROE'] = data['NetIncome'] / data['TotalEquity']\n",
    "    ratio_data['NetProfitMargin'] = data['NetIncome'] / data['Revenue']\n",
    "    ratio_data['DebtRatio'] = data['TotalAssets'] / data['TotalLiabilities']\n",
    "    ratio_data['CashRatio'] = data['Cash'] / data['TotalCurrentLiabilities']\n",
    "    return ratio_data"
   ]
  },
  {
   "cell_type": "markdown",
   "metadata": {},
   "source": [
    "## clean_dataset\n",
    "    *This function cleans up the \"bad\" datapoints after the **compute_ratio_data** operation is performed on the dataset.*"
   ]
  },
  {
   "cell_type": "code",
   "execution_count": 4,
   "metadata": {},
   "outputs": [],
   "source": [
    "def clean_dataset(df_x, df_y):\n",
    "    assert isinstance(df_x, pd.DataFrame), \"df needs to be a pd.DataFrame\"\n",
    "    assert isinstance(df_y, pd.DataFrame), \"df needs to be a pd.DataFrame\"\n",
    "    indices_to_keep = ~(df_x.isin([np.nan, np.inf, -np.inf]).any(1))\n",
    "    df_x = df_x[indices_to_keep].astype(np.float64)\n",
    "    df_y = df_y[indices_to_keep]\n",
    "    out_idx = list(df_x.index)\n",
    "    df_x.reset_index()\n",
    "    df_y.reset_index()\n",
    "    return df_x, df_y, out_idx"
   ]
  },
  {
   "cell_type": "markdown",
   "metadata": {},
   "source": [
    "## load_testing_data\n",
    "*This function loads and prepares the most recent year's data to use as the testing data for the fully trained RFR model.*"
   ]
  },
  {
   "cell_type": "code",
   "execution_count": 5,
   "metadata": {},
   "outputs": [],
   "source": [
    "def load_testing_data():\n",
    "    funda_data = pd.read_csv('Annual_FinStatement_Data.csv')\n",
    "    years = funda_data['Year'].unique()\n",
    "    x_data = funda_data[funda_data['Year'] == max(years)]\n",
    "    x_data = x_data.reset_index(drop=True)\n",
    "    descriptive_x_data = deepcopy(x_data)\n",
    "    input_features = funda_data.columns\n",
    "    training_features = list(input_features[4:])\n",
    "    training_features.remove('MarketCapDate')\n",
    "    x_data = x_data[training_features]\n",
    "    x_data = compute_ratio_data(x_data)\n",
    "    x_data, _, clean_idx = clean_dataset(x_data, x_data)\n",
    "    x_data = x_data.reset_index(drop=True)\n",
    "    descriptive_x_data = descriptive_x_data.iloc[clean_idx, :].reset_index(drop=True)\n",
    "    return x_data, descriptive_x_data"
   ]
  },
  {
   "cell_type": "markdown",
   "metadata": {},
   "source": [
    "## min_max_transform\n",
    "*This function linearly transforms each feature of the inputted data (in DataFrame format) between a & b (defaults to between 0 and 1).*"
   ]
  },
  {
   "cell_type": "code",
   "execution_count": 6,
   "metadata": {},
   "outputs": [],
   "source": [
    "def min_max_transform(data, feature_list, a=0, b=1):\n",
    "    data_trans = data.copy()    \n",
    "    for feat in feature_list:\n",
    "        data_trans[feat] = (data_trans[feat] - data_trans[feat].min()) / (data_trans[feat].max() - data_trans[feat].min()) * (b - a) - a\n",
    "    return data_trans"
   ]
  },
  {
   "cell_type": "markdown",
   "metadata": {},
   "source": [
    "## T^2 control chart functions"
   ]
  },
  {
   "cell_type": "markdown",
   "metadata": {},
   "source": [
    "## hotelling_t2\n",
    "*This function computes the Hotelling T^2 distribution for the given data, with the given confidence level.*"
   ]
  },
  {
   "cell_type": "code",
   "execution_count": 7,
   "metadata": {},
   "outputs": [],
   "source": [
    "def hotelling_t2(data, alpha, plot_flag=False): # data is a np.array of size n x p; alpha is the confidence interval (float)\n",
    "    # Make a copy of input data and save its dimensions    \n",
    "    x = deepcopy(data)\n",
    "    n = x.shape[0]\n",
    "    p = x.shape[1]\n",
    "    # Calculate Upper Control Limit\n",
    "    b = beta.ppf(alpha,p/2,0.5*(n-p-1)) # b = Beta inverse cumulative distribution function, see https://www.mathworks.com/help/stats/betainv.html\n",
    "    ucl = b*(n-1)**2/n # ucl equation from Bell's thesis, section 1.2\n",
    "    # Calcuate covariance matrix - from Bell's thesis, section 1.2\n",
    "    xbar = np.mean(x,axis=0).reshape((p,1))\n",
    "    cov_mat = np.zeros((p,p))\n",
    "    for i in range(n):\n",
    "        xi = x[i,:].reshape((p,1))\n",
    "        cov_mat += np.matmul( (xi - xbar), (xi - xbar).T )\n",
    "    cov_mat *= (1/(n-1))\n",
    "    invS = np.linalg.inv(cov_mat)\n",
    "    # Calculate T^2 distribution - from Bell's thesis, section 1.2\n",
    "    t2 = np.zeros((n,1))\n",
    "    for i in range(n):\n",
    "        xi = x[i,:].reshape((p,1))\n",
    "        t2[i] = np.matmul( np.matmul( (xi - xbar).T, invS ), (xi - xbar) )\n",
    "    # Plot Control Chart\n",
    "    if plot_flag:\n",
    "        plt.figure()\n",
    "        plt.plot(list(range(n)), t2,'-k')\n",
    "        plt.plot(list(range(n)), np.ones(n)*ucl, '--r')\n",
    "    return t2, ucl"
   ]
  },
  {
   "cell_type": "markdown",
   "metadata": {},
   "source": [
    "## time_series_plot\n",
    "*This helper function plots the time series T^2 distribution data in the desired format.*"
   ]
  },
  {
   "cell_type": "code",
   "execution_count": 8,
   "metadata": {},
   "outputs": [],
   "source": [
    "def time_series_plot(t_data, y_data, title, xlabel, ylabel, linestyle, legend=[]):\n",
    "    n = t_data.shape[1]\n",
    "    plt.figure()\n",
    "    for i in range(n):\n",
    "        plt.plot(t_data[:,i], y_data[:,i],linestyle[i])\n",
    "    plt.title(title)\n",
    "    plt.xlabel(xlabel)\n",
    "    plt.ylabel(ylabel)\n",
    "    if legend != []: plt.legend(legend,loc='best')\n",
    "    plt.grid(True)"
   ]
  },
  {
   "cell_type": "markdown",
   "metadata": {},
   "source": [
    "# Prediction"
   ]
  },
  {
   "cell_type": "markdown",
   "metadata": {},
   "source": [
    "## Load newest data for model to predict"
   ]
  },
  {
   "cell_type": "code",
   "execution_count": 9,
   "metadata": {},
   "outputs": [],
   "source": [
    "x_data_te, descriptive_x_data_te  = load_testing_data()"
   ]
  },
  {
   "cell_type": "markdown",
   "metadata": {},
   "source": [
    "## Load & predict using N = +5 years model"
   ]
  },
  {
   "cell_type": "code",
   "execution_count": 10,
   "metadata": {},
   "outputs": [
    {
     "name": "stdout",
     "output_type": "stream",
     "text": [
      "N=5 Model:\n",
      "\t\tCompany=PASSUR AEROSPACE INC, Ticker=PSSR, Date=2021-01-04, Prediction=262, Actual=-, r=205%\n",
      "\t\tCompany=CHINA GREEN AGRICULTURE INC, Ticker=CGA, Date=2020-08-31, Prediction=74, Actual=-, r=136%\n",
      "\t\tCompany=EZCORP INC  -CL A, Ticker=EZPW, Date=2020-11-30, Prediction=71, Actual=-, r=135%\n"
     ]
    }
   ],
   "source": [
    "N = 5\n",
    "bw = 50\n",
    "filename = 'model_N'+str(N)+'.sav'\n",
    "loaded_model = joblib.load(filename)\n",
    "y_pred = loaded_model.predict(x_data_te)\n",
    "spoof_y_actl = pd.DataFrame(['-']*len(y_pred)).values.ravel()\n",
    "over100_te = over_x(bw, y_pred, spoof_y_actl, descriptive_x_data_te, list(descriptive_x_data_te.index))\n",
    "x100_N5 = []\n",
    "print('N={} Model:'.format(N))\n",
    "for k in range(len(over100_te[0])): \n",
    "    r_pred = over100_te[3][k]**(1/N) - 1  \n",
    "    print('\\t\\tCompany={}, Ticker={}, Date={}, Prediction={:0.0f}, Actual={}, r={:0.0f}%'.format(over100_te[0][k], over100_te[1][k], over100_te[2][k], over100_te[3][k], over100_te[4][k], r_pred*100))\n",
    "    x100_N5.append([over100_te[0][k], over100_te[1][k], over100_te[2][k], over100_te[3][k], over100_te[4][k], r_pred])"
   ]
  },
  {
   "cell_type": "markdown",
   "metadata": {},
   "source": [
    "## Load & predict using N = +10 years model"
   ]
  },
  {
   "cell_type": "code",
   "execution_count": 11,
   "metadata": {},
   "outputs": [
    {
     "name": "stdout",
     "output_type": "stream",
     "text": [
      "N=10 Model:\n",
      "\t\tCompany=PASSUR AEROSPACE INC, Ticker=PSSR, Date=2021-01-04, Prediction=605, Actual=-, r=90%\n"
     ]
    }
   ],
   "source": [
    "N = 10\n",
    "bw = 100\n",
    "filename = 'model_N'+str(N)+'.sav'\n",
    "loaded_model = joblib.load(filename)\n",
    "y_pred = loaded_model.predict(x_data_te)\n",
    "spoof_y_actl = pd.DataFrame(['-']*len(y_pred)).values.ravel()\n",
    "over100_te = over_x(bw, y_pred, spoof_y_actl, descriptive_x_data_te, list(descriptive_x_data_te.index))\n",
    "x100_N5 = []\n",
    "print('N={} Model:'.format(N))\n",
    "for k in range(len(over100_te[0])): \n",
    "    r_pred = over100_te[3][k]**(1/N) - 1  \n",
    "    print('\\t\\tCompany={}, Ticker={}, Date={}, Prediction={:0.0f}, Actual={}, r={:0.0f}%'.format(over100_te[0][k], over100_te[1][k], over100_te[2][k], over100_te[3][k], over100_te[4][k], r_pred*100))\n",
    "    x100_N5.append([over100_te[0][k], over100_te[1][k], over100_te[2][k], over100_te[3][k], over100_te[4][k], r_pred])"
   ]
  },
  {
   "cell_type": "markdown",
   "metadata": {},
   "source": [
    "## Process statistics"
   ]
  },
  {
   "cell_type": "code",
   "execution_count": 12,
   "metadata": {},
   "outputs": [],
   "source": [
    "# Show new data on SPC chart\n",
    "training_features = x_data_te.columns\n",
    "year_list = list(descriptive_x_data_te['Year'].unique())\n",
    "drift_stats = np.zeros((len(training_features),len(year_list),2))\n",
    "for j, year in enumerate(year_list):\n",
    "    # Extract only data from current year\n",
    "    year_data = x_data_te.loc[descriptive_x_data_te['Year'] == year]\n",
    "    # Min-max normalize the current year's data\n",
    "    year_data = min_max_transform(year_data, year_data.columns)\n",
    "    # Compute mean & stddev for each feature of current year's data\n",
    "    for i, feat in enumerate(training_features):\n",
    "        drift_stats[i,j,0] = year_data[feat].mean()\n",
    "        drift_stats[i,j,1] = year_data[feat].std()\n",
    "# Format data for output\n",
    "mu = drift_stats[:,:,0].T\n",
    "sd = drift_stats[:,:,1].T\n",
    "years = np.array(year_list).reshape(-1,1)\n",
    "mu_df = pd.DataFrame(mu, columns = training_features)\n",
    "sd_df = pd.DataFrame(sd, columns = training_features)\n",
    "yr_df = pd.DataFrame(years, columns = ['Year']) \n",
    "mu_df = pd.concat([yr_df, mu_df], axis=1)\n",
    "sd_df = pd.concat([yr_df, sd_df], axis=1)\n",
    "# Load previous statistics\n",
    "mu_df_past = pd.read_csv('mu_stats.csv')\n",
    "sd_df_past = pd.read_csv('sd_stats.csv')\n",
    "# Combine DataFrames - uncomment rest of lines below to save data\n",
    "mu_df = pd.concat([mu_df_past, mu_df],axis=0) #.to_csv('mu_stats.csv', index=False)\n",
    "sd_df = pd.concat([sd_df_past, sd_df],axis=0) #.to_csv('sd_stats.csv', index=False)\n",
    "# Reformat mu & sd arrays\n",
    "mu = mu_df.iloc[:,1:].values\n",
    "sd = sd_df.iloc[:,1:].values"
   ]
  },
  {
   "cell_type": "markdown",
   "metadata": {},
   "source": [
    "## Output Hotelling T^2 control chart "
   ]
  },
  {
   "cell_type": "code",
   "execution_count": 13,
   "metadata": {},
   "outputs": [
    {
     "data": {
      "image/png": "[encoded data removed]",
      "text/plain": [
       "<Figure size 432x288 with 1 Axes>"
      ]
     },
     "metadata": {
      "needs_background": "light"
     },
     "output_type": "display_data"
    },
    {
     "data": {
      "image/png": "[encoded data removed]",
      "text/plain": [
       "<Figure size 432x288 with 1 Axes>"
      ]
     },
     "metadata": {
      "needs_background": "light"
     },
     "output_type": "display_data"
    },
    {
     "data": {
      "image/png": "[encoded data removed]",
      "text/plain": [
       "<Figure size 432x288 with 1 Axes>"
      ]
     },
     "metadata": {
      "needs_background": "light"
     },
     "output_type": "display_data"
    }
   ],
   "source": [
    "# 95% confidence interval\n",
    "alpha = 0.95 \n",
    "# Compute t^2 distributions for mean & standard deviations\n",
    "mu_t2, ucl = hotelling_t2(mu, alpha)\n",
    "sd_t2, ucl = hotelling_t2(sd, alpha)\n",
    "# Define plot paramters\n",
    "linestyle = ['-ok','--r']\n",
    "leg = ['t^2, unweighted','UCL']\n",
    "# Output mean SPC chart\n",
    "years = mu_df['Year'].values.reshape(-1,1)\n",
    "t = np.hstack((years, years))\n",
    "y = np.hstack((mu_t2, np.ones((len(mu_t2),1))*ucl))\n",
    "time_series_plot(t, y, 'MU', 'Year', '', linestyle, leg)\n",
    "# Output std SPC chart\n",
    "y = np.hstack((sd_t2, np.ones((len(sd_t2),1))*ucl))\n",
    "time_series_plot(t, y, 'SD', 'Year', '', linestyle, leg)\n",
    "# Output combined SPC chart\n",
    "comb_t2, ucl = hotelling_t2(mu+sd, alpha)\n",
    "y = np.hstack((comb_t2, np.ones((len(comb_t2),1))*ucl))\n",
    "time_series_plot(t, y, 'MU+SD', 'Year', '', linestyle, leg)"
   ]
  }
 ],
 "metadata": {
  "kernelspec": {
   "display_name": "Python 3",
   "language": "python",
   "name": "python3"
  },
  "language_info": {
   "codemirror_mode": {
    "name": "ipython",
    "version": 3
   },
   "file_extension": ".py",
   "mimetype": "text/x-python",
   "name": "python",
   "nbconvert_exporter": "python",
   "pygments_lexer": "ipython3",
   "version": "3.8.5"
  }
 },
 "nbformat": 4,
 "nbformat_minor": 4
}
